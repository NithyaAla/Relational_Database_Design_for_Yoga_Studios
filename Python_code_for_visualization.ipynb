{
 "cells": [
  {
   "cell_type": "code",
   "execution_count": 2,
   "id": "6098ce97",
   "metadata": {},
   "outputs": [
    {
     "name": "stdout",
     "output_type": "stream",
     "text": [
      "Requirement already satisfied: mysql-connector-python in c:\\users\\anaconda\\lib\\site-packages (8.0.31)\n",
      "Requirement already satisfied: protobuf<=3.20.1,>=3.11.0 in c:\\users\\anaconda\\lib\\site-packages (from mysql-connector-python) (3.17.0)\n",
      "Requirement already satisfied: six>=1.9 in c:\\users\\anaconda\\lib\\site-packages (from protobuf<=3.20.1,>=3.11.0->mysql-connector-python) (1.15.0)\n"
     ]
    }
   ],
   "source": [
    "#install the mysql driver\n",
    "! pip install mysql-connector-python"
   ]
  },
  {
   "cell_type": "code",
   "execution_count": 3,
   "id": "3bd2db79",
   "metadata": {},
   "outputs": [
    {
     "name": "stdout",
     "output_type": "stream",
     "text": [
      "Connected to MySQL Server version  8.0.30\n",
      "You are connected to database:  ('yogastudio',)\n",
      "MySQL connection is closed\n"
     ]
    }
   ],
   "source": [
    "import mysql.connector\n",
    "\n",
    "from mysql.connector import Error\n",
    "\n",
    "# establishing a connection to the mysql database\n",
    "try:\n",
    "    connection = mysql.connector.connect(host='localhost',\n",
    "                                         database='yogastudio',\n",
    "                                         user='enterusername',\n",
    "                                         password='enteryourpassword',\n",
    "                                         auth_plugin = 'mysql_native_password')\n",
    "    if connection.is_connected():\n",
    "        db_Info = connection.get_server_info()\n",
    "        print(\"Connected to MySQL Server version \", db_Info)\n",
    "        cursor = connection.cursor()\n",
    "        cursor.execute(\"select database();\")\n",
    "        record = cursor.fetchone()\n",
    "        print(\"You are connected to database: \", record)\n",
    "\n",
    "        \n",
    "\n",
    "except Error as e:\n",
    "    print(\"Error while connecting to MySQL\", e)\n",
    "finally:\n",
    "    if (connection.is_connected()):\n",
    "        cursor.close()\n",
    "        connection.close()\n",
    "        print(\"MySQL connection is closed\")\n"
   ]
  },
  {
   "cell_type": "code",
   "execution_count": 4,
   "id": "2f28d29e",
   "metadata": {},
   "outputs": [
    {
     "name": "stdout",
     "output_type": "stream",
     "text": [
      "(1, ' Pavana', ' Aerial')\n",
      "(2, 'Vishala', 'Basic')\n",
      "(3, ' Vinyasa', ' Luxury')\n",
      "(4, ' Pavana', 'Basic')\n",
      "(5, ' Vinyasa', ' Aerial')\n",
      "(6, 'Vishala', 'Basic')\n",
      "(7, 'Vishala', ' Aerial')\n",
      "(8, ' Vinyasa', 'Basic')\n",
      "(9, ' Pavana', ' Luxury')\n",
      "(10, ' Pavana', ' Luxury')\n",
      "(11, ' Pavana', ' Luxury')\n",
      "(12, 'Vishala', ' Luxury')\n"
     ]
    }
   ],
   "source": [
    "connection.reconnect()\n",
    "# creating a cursor object\n",
    "cursor = connection.cursor()\n",
    "\n",
    "query1 = \"\"\"SELECT *\n",
    "           FROM yoga_studio\n",
    "           \"\"\"\n",
    "# executing query1 with cursor\n",
    "cursor.execute(query1)\n",
    "\n",
    "# retrieving results of the query\n",
    "studios = cursor.fetchall()\n",
    "\n",
    "# showing retrieved data\n",
    "for studio in studios:\n",
    "    print(studio)"
   ]
  },
  {
   "cell_type": "code",
   "execution_count": 5,
   "id": "ba89fa51",
   "metadata": {},
   "outputs": [
    {
     "name": "stdout",
     "output_type": "stream",
     "text": [
      "(1116, 105)\n",
      "(1164, 109)\n",
      "(1222, 119)\n",
      "(1309, 120)\n",
      "(1319, 124)\n",
      "(1384, 125)\n",
      "(1422, 126)\n",
      "(1425, 128)\n",
      "(1528, 131)\n",
      "(1557, 140)\n",
      "(1719, 142)\n",
      "(1780, 144)\n",
      "(1840, 146)\n",
      "(1927, 151)\n",
      "(1932, 182)\n",
      "(1946, 194)\n",
      "(2020, 198)\n",
      "(2062, 200)\n",
      "(2102, 216)\n",
      "(2250, 219)\n",
      "(2326, 234)\n",
      "(2353, 239)\n",
      "(2367, 240)\n",
      "(2368, 246)\n",
      "(2426, 249)\n",
      "(2449, 254)\n",
      "(2452, 263)\n",
      "(2476, 267)\n",
      "(2634, 278)\n",
      "(2692, 285)\n",
      "(2705, 288)\n",
      "(2745, 294)\n",
      "(2786, 295)\n",
      "(2795, 304)\n",
      "(2922, 306)\n",
      "(2957, 310)\n",
      "(3020, 311)\n",
      "(3148, 312)\n",
      "(3203, 340)\n",
      "(3207, 343)\n",
      "(3295, 345)\n",
      "(3317, 347)\n",
      "(3348, 355)\n",
      "(3368, 358)\n",
      "(3375, 361)\n",
      "(3428, 365)\n",
      "(3516, 368)\n",
      "(3767, 369)\n",
      "(3856, 379)\n",
      "(3897, 381)\n",
      "(3974, 390)\n",
      "(4009, 394)\n",
      "(4024, 395)\n",
      "(4029, 396)\n",
      "(4054, 405)\n",
      "(4193, 410)\n",
      "(4350, 422)\n",
      "(4367, 438)\n",
      "(4410, 439)\n",
      "(4451, 446)\n",
      "(4469, 453)\n",
      "(4483, 461)\n",
      "(4484, 465)\n",
      "(4493, 477)\n",
      "(4642, 478)\n",
      "(4680, 479)\n",
      "(4711, 485)\n",
      "(4769, 486)\n",
      "(4792, 488)\n",
      "(4802, 492)\n",
      "(4906, 499)\n",
      "(4934, 516)\n",
      "(4989, 522)\n",
      "(5075, 523)\n",
      "(5249, 526)\n",
      "(5349, 528)\n",
      "(5481, 534)\n",
      "(5488, 543)\n",
      "(5514, 544)\n",
      "(5596, 553)\n",
      "(5606, 565)\n",
      "(5699, 568)\n",
      "(5725, 572)\n",
      "(5735, 587)\n",
      "(5936, 588)\n",
      "(5954, 594)\n",
      "(5992, 598)\n",
      "(5995, 610)\n",
      "(6017, 614)\n",
      "(6024, 623)\n",
      "(6036, 628)\n",
      "(6048, 630)\n",
      "(6062, 642)\n",
      "(6142, 654)\n",
      "(6347, 660)\n",
      "(6415, 661)\n",
      "(6431, 667)\n",
      "(6515, 669)\n",
      "(6577, 673)\n",
      "(6715, 674)\n",
      "(6785, 678)\n",
      "(6823, 680)\n",
      "(6946, 684)\n",
      "(6984, 698)\n",
      "(7015, 701)\n",
      "(7022, 707)\n",
      "(7089, 708)\n",
      "(7228, 711)\n",
      "(7294, 724)\n",
      "(7338, 734)\n",
      "(7383, 744)\n",
      "(7450, 745)\n",
      "(7676, 747)\n",
      "(7689, 749)\n",
      "(7723, 750)\n",
      "(7752, 757)\n",
      "(7825, 772)\n",
      "(7929, 785)\n",
      "(7967, 797)\n",
      "(7989, 803)\n",
      "(8035, 814)\n",
      "(8130, 829)\n",
      "(8409, 842)\n",
      "(8421, 845)\n",
      "(8454, 847)\n",
      "(8498, 853)\n",
      "(8522, 857)\n",
      "(8623, 858)\n",
      "(8708, 865)\n",
      "(8710, 868)\n",
      "(8748, 873)\n",
      "(8777, 879)\n",
      "(8826, 886)\n",
      "(8891, 894)\n",
      "(8967, 907)\n",
      "(9034, 913)\n",
      "(9075, 914)\n",
      "(9083, 919)\n",
      "(9098, 927)\n",
      "(9253, 928)\n",
      "(9285, 930)\n",
      "(9388, 933)\n",
      "(9402, 962)\n",
      "(9456, 971)\n",
      "(9492, 974)\n",
      "(9682, 976)\n",
      "(9691, 981)\n",
      "(9776, 982)\n",
      "(9797, 991)\n",
      "(9805, 993)\n"
     ]
    }
   ],
   "source": [
    "query2 = \"\"\"SELECT *\n",
    "           FROM session_attendance\n",
    "           \"\"\"\n",
    "# executing query2 with cursor\n",
    "cursor.execute(query2)\n",
    "\n",
    "# retrieving results of query\n",
    "session_attendance = cursor.fetchall()\n",
    "\n",
    "# showing retrieved data i.e., sessionID and studentID\n",
    "for i in session_attendance:\n",
    "    print(i)"
   ]
  },
  {
   "cell_type": "code",
   "execution_count": 6,
   "id": "41fae488",
   "metadata": {},
   "outputs": [
    {
     "name": "stdout",
     "output_type": "stream",
     "text": [
      "(' Core Restore', 35)\n",
      "(' CorePower2', 28)\n",
      "(' Hot Power Fusion', 40)\n",
      "(' Meditation', 30)\n",
      "(' Yoga Sculpt', 35)\n",
      "('CorePower1', 30)\n"
     ]
    }
   ],
   "source": [
    "query2a = \"\"\"SELECT Form, Minimum_Hours \n",
    "    From Class_Type \n",
    "    GROUP BY Form\n",
    "           \"\"\"\n",
    "# executing query2a with cursor\n",
    "cursor.execute(query2a)\n",
    "\n",
    "# retrieving results of query\n",
    "form = cursor.fetchall()\n",
    "\n",
    "# showing retrieved data i.e.,form and minimum number of hours\n",
    "for i in form:\n",
    "    print(i)"
   ]
  },
  {
   "cell_type": "code",
   "execution_count": 7,
   "id": "da22458b",
   "metadata": {},
   "outputs": [
    {
     "name": "stdout",
     "output_type": "stream",
     "text": [
      "(11825, 436, 1, 23, 'N')\n",
      "(12633, 769, 2, 25, 'N')\n",
      "(17223, 439, 2, 97, 'N')\n",
      "(13793, 258, 0, 50, 'N')\n",
      "(13730, 29, 2, 31, 'N')\n",
      "(11046, 866, 2, 22, 'N')\n",
      "(10453, 37, 2, 19, 'N')\n",
      "(14488, 670, 4, 80, 'Y')\n",
      "(10155, 3, 1, 12, 'N')\n",
      "(16838, 778, 4, 90, 'Y')\n",
      "(15350, 434, 1, 83, 'N')\n",
      "(16805, 581, 1, 86, 'N')\n",
      "(14230, 186, 1, 74, 'N')\n",
      "(11005, 665, 4, 20, 'Y')\n",
      "(16753, 863, 2, 85, 'N')\n"
     ]
    }
   ],
   "source": [
    "query3 = \"\"\"SELECT *\n",
    "           FROM satisfaction\n",
    "           \"\"\"\n",
    "# executing query3 with cursor\n",
    "cursor.execute(query3)\n",
    "\n",
    "# retrieving results of query\n",
    "satisfaction = cursor.fetchall()\n",
    "\n",
    "# showing retrieved data i.e.,SurveyNumber,StudentID,Score,TrainerID, rating - Y or N\n",
    "for i in satisfaction:\n",
    "    print(i)"
   ]
  },
  {
   "cell_type": "code",
   "execution_count": 8,
   "id": "418027d6",
   "metadata": {},
   "outputs": [
    {
     "name": "stdout",
     "output_type": "stream",
     "text": [
      "(23, 'N')\n",
      "(25, 'N')\n",
      "(97, 'N')\n",
      "(50, 'N')\n",
      "(31, 'N')\n",
      "(22, 'N')\n",
      "(19, 'N')\n",
      "(80, 'Y')\n",
      "(12, 'N')\n",
      "(90, 'Y')\n",
      "(83, 'N')\n",
      "(86, 'N')\n",
      "(74, 'N')\n",
      "(20, 'Y')\n",
      "(85, 'N')\n"
     ]
    }
   ],
   "source": [
    "query4 = \"\"\"SELECT trainer_ID,Y_or_N\n",
    "           FROM satisfaction\n",
    "           \"\"\"\n",
    "# executing query4 with cursor\n",
    "cursor.execute(query4)\n",
    "\n",
    "# retrieving results of query\n",
    "finalrating = cursor.fetchall()\n",
    "\n",
    "# showing retrieved data i.e.,TrainerID, rating - Y or N\n",
    "for i in finalrating:\n",
    "    print(i)"
   ]
  },
  {
   "cell_type": "code",
   "execution_count": 9,
   "id": "3aad4e23",
   "metadata": {},
   "outputs": [
    {
     "name": "stdout",
     "output_type": "stream",
     "text": [
      "(14, 66)\n",
      "(17, 56)\n",
      "(23, 53)\n",
      "(45, 37)\n",
      "(54, 72)\n",
      "(58, 37)\n",
      "(59, 68)\n",
      "(60, 64)\n",
      "(69, 56)\n",
      "(74, 40)\n",
      "(81, 41)\n",
      "(83, 52)\n",
      "(84, 31)\n",
      "(88, 54)\n",
      "(95, 39)\n"
     ]
    }
   ],
   "source": [
    "query5 = \"\"\"SELECT trainer_id,number_of_sessions\n",
    "           FROM trainer\n",
    "           \"\"\"\n",
    "# executing query5 with cursor\n",
    "cursor.execute(query5)\n",
    "\n",
    "# retrieving results of query\n",
    "number_of_sessions = cursor.fetchall()\n",
    "\n",
    "# showing retrieved data i.e.,TrainerID, rating - Y or N\n",
    "for i in number_of_sessions:\n",
    "    print(i)"
   ]
  },
  {
   "cell_type": "code",
   "execution_count": 10,
   "id": "3b25f267",
   "metadata": {},
   "outputs": [],
   "source": [
    "import numpy as np\n",
    "import matplotlib.pyplot as plt"
   ]
  },
  {
   "cell_type": "code",
   "execution_count": 11,
   "id": "d1dcecab",
   "metadata": {},
   "outputs": [],
   "source": [
    "# create arrays from the results retrieved by the queries for better visualization \n",
    "Rating = []\n",
    "for i in satisfaction:\n",
    "    Rating.append(i[4])\n",
    "TrainerID = []\n",
    "for i in satisfaction:\n",
    "    TrainerID.append(i[3])\n",
    "Form = []\n",
    "for i in form:\n",
    "    Form.append(i[0])\n",
    "Hours = []\n",
    "for i in form:\n",
    "    Hours.append(i[1])\n",
    "Sessions = []\n",
    "for i in number_of_sessions:\n",
    "    Sessions.append(i[1])"
   ]
  },
  {
   "cell_type": "code",
   "execution_count": 12,
   "id": "211b4296",
   "metadata": {},
   "outputs": [
    {
     "name": "stdout",
     "output_type": "stream",
     "text": [
      " Core Restore\n",
      " CorePower2\n",
      " Hot Power Fusion\n",
      " Meditation\n",
      " Yoga Sculpt\n",
      "CorePower1\n"
     ]
    }
   ],
   "source": [
    "for i in Form:\n",
    "    print(i)"
   ]
  },
  {
   "cell_type": "code",
   "execution_count": 13,
   "id": "d1886a54",
   "metadata": {},
   "outputs": [
    {
     "name": "stdout",
     "output_type": "stream",
     "text": [
      "35\n",
      "28\n",
      "40\n",
      "30\n",
      "35\n",
      "30\n"
     ]
    }
   ],
   "source": [
    "for i in Hours:\n",
    "    print(i)"
   ]
  },
  {
   "cell_type": "code",
   "execution_count": 14,
   "id": "d4cc255e",
   "metadata": {},
   "outputs": [
    {
     "name": "stdout",
     "output_type": "stream",
     "text": [
      "23\n",
      "25\n",
      "97\n",
      "50\n",
      "31\n",
      "22\n",
      "19\n",
      "80\n",
      "12\n",
      "90\n",
      "83\n",
      "86\n",
      "74\n",
      "20\n",
      "85\n"
     ]
    }
   ],
   "source": [
    "for i in TrainerID:\n",
    "    print(i)"
   ]
  },
  {
   "cell_type": "code",
   "execution_count": 15,
   "id": "fe93fafc",
   "metadata": {},
   "outputs": [
    {
     "name": "stdout",
     "output_type": "stream",
     "text": [
      "N\n",
      "N\n",
      "N\n",
      "N\n",
      "N\n",
      "N\n",
      "N\n",
      "Y\n",
      "N\n",
      "Y\n",
      "N\n",
      "N\n",
      "N\n",
      "Y\n",
      "N\n"
     ]
    }
   ],
   "source": [
    "for i in Rating:\n",
    "    print(i)"
   ]
  },
  {
   "cell_type": "markdown",
   "id": "c09c8faf",
   "metadata": {},
   "source": [
    "The rating is stored as Y and N, map Y and N values to 1 and 0 for plotting  "
   ]
  },
  {
   "cell_type": "code",
   "execution_count": 16,
   "id": "d6682530",
   "metadata": {},
   "outputs": [
    {
     "name": "stdout",
     "output_type": "stream",
     "text": [
      "0\n",
      "0\n",
      "0\n",
      "0\n",
      "0\n",
      "0\n",
      "0\n",
      "1\n",
      "0\n",
      "1\n",
      "0\n",
      "0\n",
      "0\n",
      "1\n",
      "0\n"
     ]
    }
   ],
   "source": [
    "rating_array = np.asarray(Rating)\n",
    "rating_array = np.where(rating_array == 'Y', 1, 0)\n",
    "for i in rating_array:\n",
    "    print(i)"
   ]
  },
  {
   "cell_type": "markdown",
   "id": "1ae1a4bf",
   "metadata": {},
   "source": [
    "Data Visualization"
   ]
  },
  {
   "cell_type": "code",
   "execution_count": 17,
   "id": "b2acfac8",
   "metadata": {},
   "outputs": [],
   "source": [
    "import seaborn as sns"
   ]
  },
  {
   "cell_type": "code",
   "execution_count": 18,
   "id": "9e1fe252",
   "metadata": {},
   "outputs": [
    {
     "name": "stderr",
     "output_type": "stream",
     "text": [
      "C:\\Users\\anaconda\\lib\\site-packages\\seaborn\\_core.py:881: FutureWarning: elementwise comparison failed; returning scalar instead, but in the future will perform elementwise comparison\n",
      "  val in data\n"
     ]
    },
    {
     "data": {
      "image/png": "[encoded data removed]",
      "text/plain": [
       "<Figure size 432x288 with 1 Axes>"
      ]
     },
     "metadata": {
      "needs_background": "light"
     },
     "output_type": "display_data"
    }
   ],
   "source": [
    "sns.scatterplot(data=satisfaction, x=TrainerID, y=rating_array, hue=rating_array)\n",
    "plt.yticks([0,1], ['No','Yes'])\n",
    "plt.xlabel('TrainerID')\n",
    "plt.ylabel('Rating')\n",
    "plt.title('Trainer Ratings')\n",
    "plt.show()"
   ]
  },
  {
   "cell_type": "code",
   "execution_count": 19,
   "id": "1b04fdb3",
   "metadata": {},
   "outputs": [
    {
     "data": {
      "image/png": "[encoded data removed]",
      "text/plain": [
       "<Figure size 432x288 with 1 Axes>"
      ]
     },
     "metadata": {},
     "output_type": "display_data"
    }
   ],
   "source": [
    "plt.pie(Sessions, labels = TrainerID)\n",
    "plt.title('Number of sessions conducted by each trainer')\n",
    "plt.show() "
   ]
  },
  {
   "cell_type": "code",
   "execution_count": 21,
   "id": "8f183a60",
   "metadata": {},
   "outputs": [
    {
     "data": {
      "image/png": "[encoded data removed]",
      "text/plain": [
       "<Figure size 720x360 with 1 Axes>"
      ]
     },
     "metadata": {
      "needs_background": "light"
     },
     "output_type": "display_data"
    }
   ],
   "source": [
    "fig = plt.figure(figsize = (10, 5))\n",
    "plt.bar(Form,Hours, width = 0.4)\n",
    "plt.ylabel('Minimum number of hours')\n",
    "plt.title('Minimum number of hours required to learn a yoga form')\n",
    "plt.show()"
   ]
  },
  {
   "cell_type": "markdown",
   "id": "c073a001",
   "metadata": {},
   "source": [
    "The above visualizations help the executive team of CorePower yoga make informed decisions and reward the best performing trainers. "
   ]
  }
 ],
 "metadata": {
  "kernelspec": {
   "display_name": "Python 3",
   "language": "python",
   "name": "python3"
  },
  "language_info": {
   "codemirror_mode": {
    "name": "ipython",
    "version": 3
   },
   "file_extension": ".py",
   "mimetype": "text/x-python",
   "name": "python",
   "nbconvert_exporter": "python",
   "pygments_lexer": "ipython3",
   "version": "3.8.8"
  }
 },
 "nbformat": 4,
 "nbformat_minor": 5
}
